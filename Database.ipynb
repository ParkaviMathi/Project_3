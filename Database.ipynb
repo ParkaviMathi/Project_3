{
 "cells": [
  {
   "cell_type": "code",
   "execution_count": 1,
   "id": "c7479857",
   "metadata": {},
   "outputs": [],
   "source": [
    "#Imorting dependencies\n",
    "import pandas as pd\n",
    "from sqlalchemy import create_engine\n",
    "from sqlalchemy import inspect\n",
    "from postgres_settings import postgresql as settings"
   ]
  },
  {
   "cell_type": "code",
   "execution_count": 2,
   "id": "6b755580",
   "metadata": {},
   "outputs": [
    {
     "data": {
      "text/html": [
       "<div>\n",
       "<style scoped>\n",
       "    .dataframe tbody tr th:only-of-type {\n",
       "        vertical-align: middle;\n",
       "    }\n",
       "\n",
       "    .dataframe tbody tr th {\n",
       "        vertical-align: top;\n",
       "    }\n",
       "\n",
       "    .dataframe thead th {\n",
       "        text-align: right;\n",
       "    }\n",
       "</style>\n",
       "<table border=\"1\" class=\"dataframe\">\n",
       "  <thead>\n",
       "    <tr style=\"text-align: right;\">\n",
       "      <th></th>\n",
       "      <th>site_code</th>\n",
       "      <th>short_title</th>\n",
       "      <th>stage</th>\n",
       "      <th>longitude</th>\n",
       "      <th>latitude</th>\n",
       "      <th>target_group_name</th>\n",
       "    </tr>\n",
       "  </thead>\n",
       "  <tbody>\n",
       "    <tr>\n",
       "      <th>0</th>\n",
       "      <td>S0001726</td>\n",
       "      <td>Boddington Bauxite</td>\n",
       "      <td>Operating</td>\n",
       "      <td>116.455902</td>\n",
       "      <td>-32.931561</td>\n",
       "      <td>BAUXITE - ALUMINA</td>\n",
       "    </tr>\n",
       "    <tr>\n",
       "      <th>1</th>\n",
       "      <td>S0001739</td>\n",
       "      <td>Willowdale</td>\n",
       "      <td>Operating</td>\n",
       "      <td>116.014801</td>\n",
       "      <td>-32.920719</td>\n",
       "      <td>BAUXITE - ALUMINA</td>\n",
       "    </tr>\n",
       "    <tr>\n",
       "      <th>2</th>\n",
       "      <td>S0003638</td>\n",
       "      <td>Marradong</td>\n",
       "      <td>Operating</td>\n",
       "      <td>116.434898</td>\n",
       "      <td>-32.836769</td>\n",
       "      <td>BAUXITE - ALUMINA</td>\n",
       "    </tr>\n",
       "    <tr>\n",
       "      <th>3</th>\n",
       "      <td>S0003656</td>\n",
       "      <td>O'Neil</td>\n",
       "      <td>Operating</td>\n",
       "      <td>116.201500</td>\n",
       "      <td>-32.515442</td>\n",
       "      <td>BAUXITE - ALUMINA</td>\n",
       "    </tr>\n",
       "    <tr>\n",
       "      <th>4</th>\n",
       "      <td>S0005694</td>\n",
       "      <td>Myara S</td>\n",
       "      <td>Operating</td>\n",
       "      <td>116.059470</td>\n",
       "      <td>-32.498088</td>\n",
       "      <td>BAUXITE - ALUMINA</td>\n",
       "    </tr>\n",
       "  </tbody>\n",
       "</table>\n",
       "</div>"
      ],
      "text/plain": [
       "  site_code         short_title      stage   longitude   latitude  \\\n",
       "0  S0001726  Boddington Bauxite  Operating  116.455902 -32.931561   \n",
       "1  S0001739          Willowdale  Operating  116.014801 -32.920719   \n",
       "2  S0003638           Marradong  Operating  116.434898 -32.836769   \n",
       "3  S0003656              O'Neil  Operating  116.201500 -32.515442   \n",
       "4  S0005694             Myara S  Operating  116.059470 -32.498088   \n",
       "\n",
       "   target_group_name  \n",
       "0  BAUXITE - ALUMINA  \n",
       "1  BAUXITE - ALUMINA  \n",
       "2  BAUXITE - ALUMINA  \n",
       "3  BAUXITE - ALUMINA  \n",
       "4  BAUXITE - ALUMINA  "
      ]
     },
     "execution_count": 2,
     "metadata": {},
     "output_type": "execute_result"
    }
   ],
   "source": [
    "#Reading the Foreign Direct Investment Dataset\n",
    "mines= \"Resources/clean_mines.csv\"\n",
    "mines_df = pd.read_csv( mines)\n",
    "mines_df.head()"
   ]
  },
  {
   "cell_type": "code",
   "execution_count": 3,
   "id": "806f2cec",
   "metadata": {},
   "outputs": [],
   "source": [
    "protocol = 'postgresql'\n",
    "username = settings['user']\n",
    "password = settings['passwrd']\n",
    "host = settings['host']\n",
    "port = settings['port']\n",
    "database_name = settings['db']\n",
    "rds_connection_string = f'{protocol}://{username}:{password}@{host}:{port}/{database_name}'\n",
    "engine = create_engine(rds_connection_string)\n",
    "insp = inspect(engine)"
   ]
  },
  {
   "cell_type": "code",
   "execution_count": 4,
   "id": "7ed7e51a",
   "metadata": {},
   "outputs": [
    {
     "data": {
      "text/plain": [
       "['mines_db', 'clean_mines_db']"
      ]
     },
     "execution_count": 4,
     "metadata": {},
     "output_type": "execute_result"
    }
   ],
   "source": [
    "insp.get_table_names()"
   ]
  },
  {
   "cell_type": "code",
   "execution_count": null,
   "id": "9015f56c",
   "metadata": {},
   "outputs": [],
   "source": []
  },
  {
   "cell_type": "code",
   "execution_count": null,
   "id": "6bca0fd3",
   "metadata": {},
   "outputs": [],
   "source": []
  },
  {
   "cell_type": "code",
   "execution_count": null,
   "id": "10dee85f",
   "metadata": {},
   "outputs": [],
   "source": []
  },
  {
   "cell_type": "code",
   "execution_count": null,
   "id": "0037528b",
   "metadata": {},
   "outputs": [],
   "source": []
  },
  {
   "cell_type": "code",
   "execution_count": null,
   "id": "b3e9d649",
   "metadata": {},
   "outputs": [],
   "source": []
  },
  {
   "cell_type": "code",
   "execution_count": null,
   "id": "377897df",
   "metadata": {},
   "outputs": [],
   "source": []
  },
  {
   "cell_type": "code",
   "execution_count": null,
   "id": "fffdfc26",
   "metadata": {},
   "outputs": [],
   "source": []
  },
  {
   "cell_type": "code",
   "execution_count": null,
   "id": "eef94975",
   "metadata": {},
   "outputs": [],
   "source": []
  },
  {
   "cell_type": "code",
   "execution_count": null,
   "id": "d892da44",
   "metadata": {},
   "outputs": [],
   "source": []
  }
 ],
 "metadata": {
  "kernelspec": {
   "display_name": "Python 3 (ipykernel)",
   "language": "python",
   "name": "python3"
  },
  "language_info": {
   "codemirror_mode": {
    "name": "ipython",
    "version": 3
   },
   "file_extension": ".py",
   "mimetype": "text/x-python",
   "name": "python",
   "nbconvert_exporter": "python",
   "pygments_lexer": "ipython3",
   "version": "3.7.7"
  }
 },
 "nbformat": 4,
 "nbformat_minor": 5
}
