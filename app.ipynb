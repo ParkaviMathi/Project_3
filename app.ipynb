{
 "cells": [
  {
   "cell_type": "code",
   "execution_count": 1,
   "id": "c5601d99",
   "metadata": {},
   "outputs": [],
   "source": [
    "import os\n",
    "import psycopg2\n",
    "from flask import Flask, render_template\n"
   ]
  },
  {
   "cell_type": "code",
   "execution_count": 2,
   "id": "afbc7bea",
   "metadata": {},
   "outputs": [],
   "source": [
    "\n",
    "\n",
    "app = Flask(__name__)\n",
    "\n",
    "def get_db_connection():\n",
    "    conn = psycopg2.connect(host='localhost',\n",
    "                            database='Mines_Project3',\n",
    "                            user=os.environ['postgres'],\n",
    "                            password=os.environ['postgres'])\n",
    "    return conn\n",
    "\n",
    "\n",
    "@app.route('/')\n",
    "def index():\n",
    "    conn = get_db_connection()\n",
    "    cur = conn.cursor()\n",
    "    cur.execute('SELECT * FROM commodities_price;')\n",
    "    commodities_price = cur.fetchall()\n",
    "    cur.close()\n",
    "    conn.close()\n",
    "    return render_template('index.html', commodities_price=commodities_price)"
   ]
  },
  {
   "cell_type": "code",
   "execution_count": null,
   "id": "9489539f",
   "metadata": {},
   "outputs": [],
   "source": []
  },
  {
   "cell_type": "code",
   "execution_count": null,
   "id": "e09b769a",
   "metadata": {},
   "outputs": [],
   "source": []
  },
  {
   "cell_type": "code",
   "execution_count": null,
   "id": "5b9ca8fb",
   "metadata": {},
   "outputs": [],
   "source": []
  },
  {
   "cell_type": "code",
   "execution_count": null,
   "id": "fd1afb0b",
   "metadata": {},
   "outputs": [],
   "source": []
  },
  {
   "cell_type": "code",
   "execution_count": null,
   "id": "6f37afed",
   "metadata": {},
   "outputs": [],
   "source": []
  },
  {
   "cell_type": "code",
   "execution_count": null,
   "id": "1e4a2ece",
   "metadata": {},
   "outputs": [],
   "source": []
  }
 ],
 "metadata": {
  "kernelspec": {
   "display_name": "Python 3 (ipykernel)",
   "language": "python",
   "name": "python3"
  },
  "language_info": {
   "codemirror_mode": {
    "name": "ipython",
    "version": 3
   },
   "file_extension": ".py",
   "mimetype": "text/x-python",
   "name": "python",
   "nbconvert_exporter": "python",
   "pygments_lexer": "ipython3",
   "version": "3.9.12"
  }
 },
 "nbformat": 4,
 "nbformat_minor": 5
}
