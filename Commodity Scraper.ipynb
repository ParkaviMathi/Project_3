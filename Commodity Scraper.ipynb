{
 "cells": [
  {
   "cell_type": "code",
   "execution_count": 1,
   "metadata": {},
   "outputs": [],
   "source": [
    "# Import Dependencies\n",
    "from splinter import Browser\n",
    "from webdriver_manager.chrome import ChromeDriverManager\n",
    "from bs4 import BeautifulSoup\n",
    "import requests\n",
    "import pandas as pd"
   ]
  },
  {
   "cell_type": "code",
   "execution_count": 2,
   "metadata": {},
   "outputs": [],
   "source": [
    "# Setup splinter\n",
    "executable_path = {'executable_path': ChromeDriverManager().install()}\n",
    "browser = Browser('chrome', **executable_path, headless=False)"
   ]
  },
  {
   "cell_type": "code",
   "execution_count": 3,
   "metadata": {},
   "outputs": [],
   "source": [
    "# Business Insider Commodities URL to scrape\n",
    "url = 'https://markets.businessinsider.com/commodities'\n",
    "browser.visit(url)\n",
    "html = browser.html"
   ]
  },
  {
   "cell_type": "code",
   "execution_count": 4,
   "metadata": {},
   "outputs": [],
   "source": [
    "# Create BeautifulSoup object; parse with 'html.parser'\n",
    "soup = BeautifulSoup(html, 'html.parser')"
   ]
  },
  {
   "cell_type": "code",
   "execution_count": 5,
   "metadata": {},
   "outputs": [],
   "source": [
    "# Search through each table and extract the data from the rows of each table\n",
    "data=[]\n",
    "tables = soup.find_all('table')\n",
    "for table in tables:\n",
    "    table_body = table.find('tbody')\n",
    "    rows = table_body.find_all('tr')\n",
    "    for row in rows:\n",
    "        cols = row.find_all('td')\n",
    "        cols = [ele.text.strip() for ele in cols]\n",
    "        data.append([ele for ele in cols if ele]) # Get rid of empty values"
   ]
  },
  {
   "cell_type": "code",
   "execution_count": 6,
   "metadata": {},
   "outputs": [
    {
     "name": "stdout",
     "output_type": "stream",
     "text": [
      "[['Orange Juice', '4.12%', '2.19 USD'], ['Nickel', '2.80%', '22,150.00 USD'], ['Cocoa', '1.33%', '1,976.00 GBP'], ['Live Cattle', '0.95%', '1.52 USD'], ['Coal', '0.75%', '270.00 USD'], ['Gold', '1,645.28', '-0.27%', '-4.42', 'USD per Troy Ounce', '07:41:00 AM'], ['Palladium', '1,965.24', '-0.49%', '-9.76', 'USD per Troy Ounce', '07:41:01 AM'], ['Platinum', '916.50', '-1.35%', '-12.50', 'USD per Troy Ounce', '07:33:00 AM'], ['Silver', '18.91', '-1.97%', '-0.38', 'USD per Troy Ounce', '07:33:00 AM'], ['Natural Gas (Henry Hub)', '5.16', '-0.33%', '-0.02', 'USD per MMBtu', '07:23:00 AM'], ['Ethanol', '2.16', '0.05%', '0.00', 'per Gallon', '10/24/2022'], ['Heating Oil', '102.50', '-1.52%', '-1.59', 'USD per 100 Liter', '07:23:00 AM'], ['Coal', '270.00', '0.75%', '2.00', 'per Ton', '10/20/2022'], ['RBOB Gasoline', '2.70', '-1.71%', '-0.05', 'per Gallone', '07:20:00 AM'], ['Uranium', '0.85', '%', 'per 250 Pfund U308', '9/28/2022'], ['Oil (Brent)', '91.81', '-1.75%', '-1.64', 'USD per Barrel', '07:24:00 AM'], ['Oil (WTI)', '83.20', '-1.99%', '-1.69', 'USD per Barrel', '07:25:00 AM'], ['Aluminium', '2,181.25', '-1.53%', '-33.96', 'USD per Ton', '10/24/2022'], ['Lead', '1,935.85', '0.36%', '6.85', 'USD per Ton', '10/24/2022'], ['Iron Ore', '94.51', '-0.37%', '-0.35', 'per Dry Metric Ton', '10/24/2022'], ['Copper', '3.37', '-99.96%', '-7,539.63', 'USD per Ton', '07:41:01 AM'], ['Nickel', '22,150.00', '2.80%', '602.50', 'USD per Ton', '10/24/2022'], ['Zinc', '3,010.50', '0.68%', '20.25', 'USD per Ton', '10/24/2022'], ['Tin', '18,350.00', '-0.44%', '-81.00', 'USD per Ton', '10/24/2022'], ['Cotton', '0.76', '0.01%', '0.00', 'USc per lb.', '07:21:00 AM'], ['Oats', '3.58', '-1.31%', '-0.05', 'USc per Bushel', '07:09:00 AM'], ['Lumber', '504.20', '-5.81%', '-31.10', 'per 1.000 board feet', '10/24/2022'], ['Coffee', '1.88', '-1.72%', '-0.03', 'USc per lb.', '07:25:00 AM'], ['Cocoa', '1,976.00', '1.33%', '26.00', 'GBP per Ton', '10/24/2022'], ['Live Cattle', '1.52', '0.95%', '0.01', 'USD per lb.', '10/24/2022'], ['Lean Hog', '0.88', '-1.26%', '-0.01', 'USc per lb.', '10/24/2022'], ['Corn', '6.78', '-0.55%', '-0.04', 'USc per Bushel', '07:24:00 AM'], ['Feeder Cattle', '1.76', '0.27%', '0.00', 'USc per lb.', '10/24/2022'], ['Milk', '21.78', '-0.27%', '-0.06', 'USD per cwt.sh.', '10/24/2022'], ['Orange Juice', '2.19', '4.12%', '0.09', 'USc per lb.', '10/24/2022'], ['Palm Oil', '3,979.00', '-0.43%', '-17.00', 'Ringgit per Ton', '10/21/2022'], ['Rapeseed', '646.00', '0.12%', '0.75', 'EUR per Ton', '07:18:00 AM'], ['Rice', '16.21', '-0.09%', '-0.02', 'per cwt.', '10/24/2022'], ['Soybean Meal', '409.30', '0.34%', '1.40', 'USD per Ton', '07:24:00 AM'], ['Soybeans', '13.72', '-0.07%', '-0.01', 'USc per Bushel', '07:24:00 AM'], ['Soybean Oil', '0.72', '-0.60%', '0.00', 'USD per lb.', '07:24:00 AM'], ['Wheat', '337.50', '-0.59%', '-2.00', 'USc per Ton', '07:19:00 AM'], ['Sugar', '0.18', '0.28%', '0.00', 'USc per lb.', '07:23:00 AM']]\n"
     ]
    }
   ],
   "source": [
    "# Review the data\n",
    "print(data)"
   ]
  },
  {
   "cell_type": "code",
   "execution_count": 7,
   "metadata": {},
   "outputs": [],
   "source": [
    "browser.quit()"
   ]
  },
  {
   "cell_type": "code",
   "execution_count": 8,
   "metadata": {},
   "outputs": [],
   "source": [
    "# Iterate through the rows and get the data for the four commodites we are plotting\n",
    "commodities = []\n",
    "for row in data:\n",
    "    if row[0] == 'Gold':\n",
    "        commodities.append(row)\n",
    "    if row[0] == 'Nickel':\n",
    "        commodities.append(row)\n",
    "    if row[0] == 'Aluminium':\n",
    "        commodities.append(row)\n",
    "    if row[0] == 'Iron Ore':\n",
    "        commodities.append(row)"
   ]
  },
  {
   "cell_type": "code",
   "execution_count": 9,
   "metadata": {},
   "outputs": [
    {
     "name": "stdout",
     "output_type": "stream",
     "text": [
      "[['Nickel', '2.80%', '22,150.00 USD'], ['Gold', '1,645.28', '-0.27%', '-4.42', 'USD per Troy Ounce', '07:41:00 AM'], ['Aluminium', '2,181.25', '-1.53%', '-33.96', 'USD per Ton', '10/24/2022'], ['Iron Ore', '94.51', '-0.37%', '-0.35', 'per Dry Metric Ton', '10/24/2022'], ['Nickel', '22,150.00', '2.80%', '602.50', 'USD per Ton', '10/24/2022']]\n"
     ]
    }
   ],
   "source": [
    "print(commodities)"
   ]
  },
  {
   "cell_type": "code",
   "execution_count": 10,
   "metadata": {},
   "outputs": [],
   "source": [
    "# Create the pandas DataFrame\n",
    "df = pd.DataFrame(commodities, columns = ['Commodity', 'Price', '% Change','+/-','Unit','Date'])"
   ]
  },
  {
   "cell_type": "code",
   "execution_count": 11,
   "metadata": {},
   "outputs": [
    {
     "data": {
      "text/html": [
       "<div>\n",
       "<style scoped>\n",
       "    .dataframe tbody tr th:only-of-type {\n",
       "        vertical-align: middle;\n",
       "    }\n",
       "\n",
       "    .dataframe tbody tr th {\n",
       "        vertical-align: top;\n",
       "    }\n",
       "\n",
       "    .dataframe thead th {\n",
       "        text-align: right;\n",
       "    }\n",
       "</style>\n",
       "<table border=\"1\" class=\"dataframe\">\n",
       "  <thead>\n",
       "    <tr style=\"text-align: right;\">\n",
       "      <th></th>\n",
       "      <th>Commodity</th>\n",
       "      <th>Price</th>\n",
       "      <th>% Change</th>\n",
       "      <th>+/-</th>\n",
       "      <th>Unit</th>\n",
       "      <th>Date</th>\n",
       "    </tr>\n",
       "  </thead>\n",
       "  <tbody>\n",
       "    <tr>\n",
       "      <th>1</th>\n",
       "      <td>Gold</td>\n",
       "      <td>1,645.28</td>\n",
       "      <td>-0.27%</td>\n",
       "      <td>-4.42</td>\n",
       "      <td>USD per Troy Ounce</td>\n",
       "      <td>07:41:00 AM</td>\n",
       "    </tr>\n",
       "    <tr>\n",
       "      <th>2</th>\n",
       "      <td>Aluminium</td>\n",
       "      <td>2,181.25</td>\n",
       "      <td>-1.53%</td>\n",
       "      <td>-33.96</td>\n",
       "      <td>USD per Ton</td>\n",
       "      <td>10/24/2022</td>\n",
       "    </tr>\n",
       "    <tr>\n",
       "      <th>3</th>\n",
       "      <td>Iron Ore</td>\n",
       "      <td>94.51</td>\n",
       "      <td>-0.37%</td>\n",
       "      <td>-0.35</td>\n",
       "      <td>per Dry Metric Ton</td>\n",
       "      <td>10/24/2022</td>\n",
       "    </tr>\n",
       "    <tr>\n",
       "      <th>4</th>\n",
       "      <td>Nickel</td>\n",
       "      <td>22,150.00</td>\n",
       "      <td>2.80%</td>\n",
       "      <td>602.50</td>\n",
       "      <td>USD per Ton</td>\n",
       "      <td>10/24/2022</td>\n",
       "    </tr>\n",
       "  </tbody>\n",
       "</table>\n",
       "</div>"
      ],
      "text/plain": [
       "   Commodity      Price % Change     +/-                Unit         Date\n",
       "1       Gold   1,645.28   -0.27%   -4.42  USD per Troy Ounce  07:41:00 AM\n",
       "2  Aluminium   2,181.25   -1.53%  -33.96         USD per Ton   10/24/2022\n",
       "3   Iron Ore      94.51   -0.37%   -0.35  per Dry Metric Ton   10/24/2022\n",
       "4     Nickel  22,150.00    2.80%  602.50         USD per Ton   10/24/2022"
      ]
     },
     "execution_count": 11,
     "metadata": {},
     "output_type": "execute_result"
    }
   ],
   "source": [
    "#Remove row of partial data (which comes from the ynamic table at the top of the webpage)\n",
    "df.dropna(axis=0,how='any',inplace=True)\n",
    "df"
   ]
  },
  {
   "cell_type": "code",
   "execution_count": 12,
   "metadata": {},
   "outputs": [],
   "source": [
    "#Export dataframe to CSV\n",
    "df.to_csv('resources/commodity_price.csv', index=False)"
   ]
  }
 ],
 "metadata": {
  "kernelspec": {
   "display_name": "Python 3.9.13 64-bit",
   "language": "python",
   "name": "python3"
  },
  "language_info": {
   "codemirror_mode": {
    "name": "ipython",
    "version": 3
   },
   "file_extension": ".py",
   "mimetype": "text/x-python",
   "name": "python",
   "nbconvert_exporter": "python",
   "pygments_lexer": "ipython3",
   "version": "3.9.13"
  },
  "orig_nbformat": 4,
  "vscode": {
   "interpreter": {
    "hash": "b0fa6594d8f4cbf19f97940f81e996739fb7646882a419484c72d19e05852a7e"
   }
  }
 },
 "nbformat": 4,
 "nbformat_minor": 2
}
