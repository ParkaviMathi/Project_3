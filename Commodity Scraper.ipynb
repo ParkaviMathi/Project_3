{
 "cells": [
  {
   "cell_type": "code",
   "execution_count": 2,
   "metadata": {},
   "outputs": [],
   "source": [
    "# Dependencies\n",
    "from splinter import Browser\n",
    "from webdriver_manager.chrome import ChromeDriverManager\n",
    "from bs4 import BeautifulSoup\n",
    "import requests\n",
    "import pymongo\n",
    "import pandas as pd"
   ]
  },
  {
   "cell_type": "code",
   "execution_count": 3,
   "metadata": {},
   "outputs": [
    {
     "name": "stderr",
     "output_type": "stream",
     "text": [
      "[WDM] - Downloading: 100%|██████████| 6.29M/6.29M [00:00<00:00, 6.80MB/s]\n"
     ]
    }
   ],
   "source": [
    "# Setup splinter\n",
    "executable_path = {'executable_path': ChromeDriverManager().install()}\n",
    "browser = Browser('chrome', **executable_path, headless=False)"
   ]
  },
  {
   "cell_type": "code",
   "execution_count": 4,
   "metadata": {},
   "outputs": [],
   "source": [
    "# Mars News URL to scrape\n",
    "url = 'https://markets.businessinsider.com/commodities'\n",
    "browser.visit(url)\n",
    "html = browser.html"
   ]
  },
  {
   "cell_type": "code",
   "execution_count": 5,
   "metadata": {},
   "outputs": [],
   "source": [
    "# Create BeautifulSoup object; parse with 'html.parser'\n",
    "soup = BeautifulSoup(html, 'html.parser')"
   ]
  },
  {
   "cell_type": "code",
   "execution_count": 11,
   "metadata": {},
   "outputs": [],
   "source": [
    "# Examine the results and look for a ul with the class 'querylist'\n",
    "data=[]\n",
    "tables = soup.find_all('table')\n",
    "for table in tables:\n",
    "    table_body = table.find('tbody')\n",
    "    rows = table_body.find_all('tr')\n",
    "    for row in rows:\n",
    "        cols = row.find_all('td')\n",
    "        cols = [ele.text.strip() for ele in cols]\n",
    "        data.append([ele for ele in cols if ele]) # Get rid of empty values"
   ]
  },
  {
   "cell_type": "code",
   "execution_count": 12,
   "metadata": {},
   "outputs": [
    {
     "name": "stdout",
     "output_type": "stream",
     "text": [
      "[['Orange Juice', '4.12%', '2.19 USD'], ['Nickel', '2.80%', '22,150.00 USD'], ['Cocoa', '1.33%', '1,976.00 GBP'], ['Live Cattle', '0.95%', '1.52 USD'], ['Coal', '0.75%', '270.00 USD'], ['Gold', '1,639.55', '-0.62%', '-10.15', 'USD per Troy Ounce', '06:39:56 AM'], ['Palladium', '1,962.00', '-0.66%', '-13.00', 'USD per Troy Ounce', '06:27:00 AM'], ['Platinum', '913.00', '-1.72%', '-16.00', 'USD per Troy Ounce', '06:28:00 AM'], ['Silver', '18.82', '-2.44%', '-0.47', 'USD per Troy Ounce', '06:27:00 AM'], ['Natural Gas (Henry Hub)', '5.19', '0.21%', '0.01', 'USD per MMBtu', '06:18:00 AM'], ['Ethanol', '2.16', '0.05%', '0.00', 'per Gallon', '10/24/2022'], ['Heating Oil', '102.50', '-1.52%', '-1.59', 'USD per 100 Liter', '06:12:00 AM'], ['Coal', '270.00', '0.75%', '2.00', 'per Ton', '10/20/2022'], ['RBOB Gasoline', '2.68', '-2.48%', '-0.07', 'per Gallone', '06:13:00 AM'], ['Uranium', '0.85', '%', 'per 250 Pfund U308', '9/28/2022'], ['Oil (Brent)', '91.81', '-1.75%', '-1.64', 'USD per Barrel', '06:18:00 AM'], ['Oil (WTI)', '83.25', '-1.93%', '-1.64', 'USD per Barrel', '06:18:00 AM'], ['Aluminium', '2,181.25', '-1.53%', '-33.96', 'USD per Ton', '10/24/2022'], ['Lead', '1,874.47', '-2.83%', '-54.53', 'USD per Ton', '06:39:56 AM'], ['Iron Ore', '94.51', '-0.37%', '-0.35', 'per Dry Metric Ton', '10/24/2022'], ['Copper', '7,540.00', '-0.04%', '-3.00', 'USD per Ton', '10/24/2022'], ['Nickel', '22,150.00', '2.80%', '602.50', 'USD per Ton', '10/24/2022'], ['Zinc', '3,010.50', '0.68%', '20.25', 'USD per Ton', '10/24/2022'], ['Tin', '18,350.00', '-0.44%', '-81.00', 'USD per Ton', '10/24/2022'], ['Cotton', '0.76', '0.33%', '0.00', 'USc per lb.', '06:18:00 AM'], ['Oats', '3.59', '-0.97%', '-0.04', 'USc per Bushel', '05:40:00 AM'], ['Lumber', '504.20', '-5.81%', '-31.10', 'per 1.000 board feet', '10/24/2022'], ['Coffee', '1.91', '-0.03%', '0.00', 'USc per lb.', '06:18:00 AM'], ['Cocoa', '1,976.00', '1.33%', '26.00', 'GBP per Ton', '10/24/2022'], ['Live Cattle', '1.52', '0.95%', '0.01', 'USD per lb.', '10/24/2022'], ['Lean Hog', '0.88', '-1.26%', '-0.01', 'USc per lb.', '10/24/2022'], ['Corn', '6.79', '-0.40%', '-0.03', 'USc per Bushel', '06:18:00 AM'], ['Feeder Cattle', '1.76', '0.27%', '0.00', 'USc per lb.', '10/24/2022'], ['Milk', '21.78', '-0.27%', '-0.06', 'USD per cwt.sh.', '10/24/2022'], ['Orange Juice', '2.19', '4.12%', '0.09', 'USc per lb.', '10/24/2022'], ['Palm Oil', '3,979.00', '-0.43%', '-17.00', 'Ringgit per Ton', '10/21/2022'], ['Rapeseed', '648.50', '0.50%', '3.25', 'EUR per Ton', '05:43:00 AM'], ['Rice', '16.21', '-0.09%', '-0.02', 'per cwt.', '10/24/2022'], ['Soybean Meal', '409.40', '0.37%', '1.50', 'USD per Ton', '06:18:00 AM'], ['Soybeans', '13.73', '0.04%', '0.01', 'USc per Bushel', '06:15:00 AM'], ['Soybean Oil', '0.72', '-0.49%', '0.00', 'USD per lb.', '06:18:00 AM'], ['Wheat', '337.25', '-0.66%', '-2.25', 'USc per Ton', '06:13:00 AM'], ['Sugar', '0.18', '0.28%', '0.00', 'USc per lb.', '06:18:00 AM']]\n"
     ]
    }
   ],
   "source": [
    "print(data)"
   ]
  },
  {
   "cell_type": "code",
   "execution_count": 13,
   "metadata": {},
   "outputs": [],
   "source": [
    "browser.quit()"
   ]
  },
  {
   "cell_type": "code",
   "execution_count": 28,
   "metadata": {},
   "outputs": [],
   "source": [
    "commodities = []\n",
    "for row in data:\n",
    "    if row[0] == 'Gold':\n",
    "        commodities.append(row)\n",
    "    if row[0] == 'Nickel':\n",
    "        commodities.append(row)\n",
    "    if row[0] == 'Aluminium':\n",
    "        commodities.append(row)\n",
    "    if row[0] == 'Iron Ore':\n",
    "        commodities.append(row)"
   ]
  },
  {
   "cell_type": "code",
   "execution_count": 29,
   "metadata": {},
   "outputs": [
    {
     "name": "stdout",
     "output_type": "stream",
     "text": [
      "[['Nickel', '2.80%', '22,150.00 USD'], ['Gold', '1,639.55', '-0.62%', '-10.15', 'USD per Troy Ounce', '06:39:56 AM'], ['Aluminium', '2,181.25', '-1.53%', '-33.96', 'USD per Ton', '10/24/2022'], ['Iron Ore', '94.51', '-0.37%', '-0.35', 'per Dry Metric Ton', '10/24/2022'], ['Nickel', '22,150.00', '2.80%', '602.50', 'USD per Ton', '10/24/2022']]\n"
     ]
    }
   ],
   "source": [
    "print(commodities)"
   ]
  },
  {
   "cell_type": "code",
   "execution_count": null,
   "metadata": {},
   "outputs": [],
   "source": []
  }
 ],
 "metadata": {
  "kernelspec": {
   "display_name": "Python 3.7.7 ('PythonData')",
   "language": "python",
   "name": "python3"
  },
  "language_info": {
   "codemirror_mode": {
    "name": "ipython",
    "version": 3
   },
   "file_extension": ".py",
   "mimetype": "text/x-python",
   "name": "python",
   "nbconvert_exporter": "python",
   "pygments_lexer": "ipython3",
   "version": "3.7.7"
  },
  "orig_nbformat": 4,
  "vscode": {
   "interpreter": {
    "hash": "6ff21250d473e2a3f84cf029a2902dd8ff4214afabc94de27afa0913b66bcb53"
   }
  }
 },
 "nbformat": 4,
 "nbformat_minor": 2
}
